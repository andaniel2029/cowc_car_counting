{
 "cells": [
  {
   "cell_type": "code",
   "execution_count": 1,
   "metadata": {},
   "outputs": [
    {
     "name": "stderr",
     "output_type": "stream",
     "text": [
      "/opt/conda/envs/py3.6/lib/python3.6/site-packages/cupy/core/fusion.py:659: FutureWarning: cupy.core.fusion is experimental. The interface can change in the future.\n",
      "  util.experimental('cupy.core.fusion')\n"
     ]
    }
   ],
   "source": [
    "import os\n",
    "import cv2\n",
    "import numpy as np\n",
    "from skimage import io\n",
    "import itertools\n",
    "import pickle\n",
    "from pprint import pprint\n",
    "import pandas as pd\n",
    "from collections import OrderedDict\n",
    "\n",
    "import matplotlib.pyplot as plt\n",
    "%matplotlib inline\n",
    "\n",
    "import sys\n",
    "sys.path.append(\"../../src/models\")\n",
    "\n",
    "from predict import CarCountingModel as Model\n",
    "from evaluate_model import evaluate_model"
   ]
  },
  {
   "cell_type": "markdown",
   "metadata": {},
   "source": [
    "## Count cars on all test scenes"
   ]
  },
  {
   "cell_type": "code",
   "execution_count": 2,
   "metadata": {},
   "outputs": [],
   "source": [
    "model_path = \"../../models/logs/model_iter_51331\"\n",
    "insize = 128\n",
    "count_ignore_width=8\n",
    "car_max = 14\n",
    "class_num = car_max + 1\n",
    "\n",
    "mean_path = \"../../data/cowc_processed/train_val/crop/mean.npy\"\n",
    "mean = np.load(mean_path)\n",
    "\n",
    "model = Model(model_path, class_num, insize, mean)"
   ]
  },
  {
   "cell_type": "code",
   "execution_count": 3,
   "metadata": {},
   "outputs": [
    {
     "name": "stdout",
     "output_type": "stream",
     "text": [
      "Loading Utah_AGRC/12TVL180140 ... (1/7)\n"
     ]
    },
    {
     "name": "stderr",
     "output_type": "stream",
     "text": [
      "14400 / 14400\n"
     ]
    },
    {
     "name": "stdout",
     "output_type": "stream",
     "text": [
      "Loading Utah_AGRC/12TVL200180 ... (2/7)\n"
     ]
    },
    {
     "name": "stderr",
     "output_type": "stream",
     "text": [
      "14400 / 14400\n"
     ]
    },
    {
     "name": "stdout",
     "output_type": "stream",
     "text": [
      "Loading Utah_AGRC/12TVL240120 ... (3/7)\n"
     ]
    },
    {
     "name": "stderr",
     "output_type": "stream",
     "text": [
      "14400 / 14400\n"
     ]
    },
    {
     "name": "stdout",
     "output_type": "stream",
     "text": [
      "Loading Utah_AGRC/12TVK220980-CROP ... (4/7)\n"
     ]
    },
    {
     "name": "stderr",
     "output_type": "stream",
     "text": [
      "3721 / 3721\n"
     ]
    },
    {
     "name": "stdout",
     "output_type": "stream",
     "text": [
      "Loading Utah_AGRC/12TVL160640-CROP ... (5/7)\n"
     ]
    },
    {
     "name": "stderr",
     "output_type": "stream",
     "text": [
      "4225 / 4225\n"
     ]
    },
    {
     "name": "stdout",
     "output_type": "stream",
     "text": [
      "Loading Utah_AGRC/12TVL160660-CROP ... (6/7)\n"
     ]
    },
    {
     "name": "stderr",
     "output_type": "stream",
     "text": [
      "2809 / 2809\n"
     ]
    },
    {
     "name": "stdout",
     "output_type": "stream",
     "text": [
      "Loading Utah_AGRC/12TVL220360-CROP ... (7/7)\n"
     ]
    },
    {
     "name": "stderr",
     "output_type": "stream",
     "text": [
      "6561 / 6561\n"
     ]
    }
   ],
   "source": [
    "eval_result, scene_info_list = evaluate_model(\n",
    "    model,\n",
    "    test_scene_list=\"../../data/cowc_processed/test/test_scenes.txt\", \n",
    "    data_root=\"../../data/cowc/datasets/ground_truth_sets\",\n",
    "    count_ignore_width=count_ignore_width,\n",
    "    car_max=car_max\n",
    ")\n",
    "\n",
    "with open(\"eval_result.pickle\", 'wb') as handle:\n",
    "    pickle.dump(eval_result, handle, protocol=pickle.HIGHEST_PROTOCOL)\n",
    "\n",
    "with open(\"scene_info_list.pickle\", 'wb') as handle:\n",
    "    pickle.dump(scene_info_list, handle, protocol=pickle.HIGHEST_PROTOCOL)"
   ]
  },
  {
   "cell_type": "code",
   "execution_count": 3,
   "metadata": {},
   "outputs": [],
   "source": [
    "#with open(\"eval_result.pickle\", 'rb') as handle:\n",
    "#  eval_result = pickle.load(handle)\n",
    "\n",
    "#with open(\"scene_info_list.pickle\", 'rb') as handle:\n",
    "#  scene_info_list = pickle.load(handle)"
   ]
  },
  {
   "cell_type": "markdown",
   "metadata": {},
   "source": [
    "## Show evaluation result over all test scenes and at each scene"
   ]
  },
  {
   "cell_type": "code",
   "execution_count": 4,
   "metadata": {},
   "outputs": [
    {
     "name": "stdout",
     "output_type": "stream",
     "text": [
      "{'accuracy': 0.9429407098949039,\n",
      " 'accuracy_1': 0.9878379271597594,\n",
      " 'accuracy_2': 0.9964472205697666,\n",
      " 'mae': 0.07657479013814529,\n",
      " 'proposal_accuracy': 0.974998347544451,\n",
      " 'rmse': 0.39087854898359736}\n",
      "{'counted': 19191, 'labeled': 19431}\n"
     ]
    }
   ],
   "source": [
    "# Evaluation metrics over all test scenes\n",
    "pprint(eval_result['metrics'])\n",
    "pprint(eval_result['cars'])"
   ]
  },
  {
   "cell_type": "code",
   "execution_count": 5,
   "metadata": {
    "scrolled": false
   },
   "outputs": [
    {
     "name": "stdout",
     "output_type": "stream",
     "text": [
      "Utah_AGRC/12TVL180140\n",
      "{'accuracy': 0.9834027777777777,\n",
      " 'accuracy_1': 0.9972222222222222,\n",
      " 'accuracy_2': 0.9997916666666666,\n",
      " 'mae': 0.019791666666666666,\n",
      " 'proposal_accuracy': 0.9893055555555555,\n",
      " 'rmse': 0.16687486995417322}\n",
      "{'counted': 925, 'labeled': 806}\n",
      "\n",
      "Utah_AGRC/12TVL200180\n",
      "{'accuracy': 0.9806944444444444,\n",
      " 'accuracy_1': 0.9944444444444445,\n",
      " 'accuracy_2': 0.998125,\n",
      " 'mae': 0.029791666666666668,\n",
      " 'proposal_accuracy': 0.98625,\n",
      " 'rmse': 0.27550458758027563}\n",
      "{'counted': 824, 'labeled': 751}\n",
      "\n",
      "Utah_AGRC/12TVL240120\n",
      "{'accuracy': 0.8548611111111111,\n",
      " 'accuracy_1': 0.9724305555555556,\n",
      " 'accuracy_2': 0.9929166666666667,\n",
      " 'mae': 0.1832638888888889,\n",
      " 'proposal_accuracy': 0.9500694444444444,\n",
      " 'rmse': 0.541025261270981}\n",
      "{'counted': 12684, 'labeled': 13209}\n",
      "\n",
      "Utah_AGRC/12TVK220980-CROP\n",
      "{'accuracy': 0.9416823434560602,\n",
      " 'accuracy_1': 0.9892502015587208,\n",
      " 'accuracy_2': 0.9978500403117442,\n",
      " 'mae': 0.07121741467347487,\n",
      " 'proposal_accuracy': 0.9645256651437786,\n",
      " 'rmse': 0.31830307932700985}\n",
      "{'counted': 826, 'labeled': 813}\n",
      "\n",
      "Utah_AGRC/12TVL160640-CROP\n",
      "{'accuracy': 0.9254437869822485,\n",
      " 'accuracy_1': 0.9687573964497042,\n",
      " 'accuracy_2': 0.984378698224852,\n",
      " 'mae': 0.15195266272189348,\n",
      " 'proposal_accuracy': 0.973491124260355,\n",
      " 'rmse': 0.789277251592656}\n",
      "{'counted': 2678, 'labeled': 2698}\n",
      "\n",
      "Utah_AGRC/12TVL160660-CROP\n",
      "{'accuracy': 0.9530081879672482,\n",
      " 'accuracy_1': 0.9911000355998576,\n",
      " 'accuracy_2': 0.9978640085439658,\n",
      " 'mae': 0.05909576361694553,\n",
      " 'proposal_accuracy': 0.9740121039515842,\n",
      " 'rmse': 0.3030637434756417}\n",
      "{'counted': 656, 'labeled': 608}\n",
      "\n",
      "Utah_AGRC/12TVL220360-CROP\n",
      "{'accuracy': 0.9722603261697912,\n",
      " 'accuracy_1': 0.9966468526139308,\n",
      " 'accuracy_2': 0.9995427526291724,\n",
      " 'mae': 0.0317024843773815,\n",
      " 'proposal_accuracy': 0.9809480262155159,\n",
      " 'rmse': 0.20286020648339487}\n",
      "{'counted': 598, 'labeled': 546}\n",
      "\n"
     ]
    }
   ],
   "source": [
    "# Evaluation metrics at each test scene\n",
    "for scene_info in scene_info_list:\n",
    "    print(scene_info['scene'])\n",
    "    pprint(scene_info['eval']['metrics'])\n",
    "    pprint(scene_info['eval']['cars'])\n",
    "    print()"
   ]
  },
  {
   "cell_type": "code",
   "execution_count": 6,
   "metadata": {},
   "outputs": [
    {
     "data": {
      "text/html": [
       "<div>\n",
       "<style scoped>\n",
       "    .dataframe tbody tr th:only-of-type {\n",
       "        vertical-align: middle;\n",
       "    }\n",
       "\n",
       "    .dataframe tbody tr th {\n",
       "        vertical-align: top;\n",
       "    }\n",
       "\n",
       "    .dataframe thead th {\n",
       "        text-align: right;\n",
       "    }\n",
       "</style>\n",
       "<table border=\"1\" class=\"dataframe\">\n",
       "  <thead>\n",
       "    <tr style=\"text-align: right;\">\n",
       "      <th></th>\n",
       "      <th>MAE</th>\n",
       "      <th>RMSE</th>\n",
       "      <th>Accuracy</th>\n",
       "      <th>Accuracy ±1</th>\n",
       "      <th>Accuracy ±2</th>\n",
       "      <th>Proposal accuracy</th>\n",
       "      <th>Labeled</th>\n",
       "      <th>Counted</th>\n",
       "      <th>Error over scene(s) [%]</th>\n",
       "    </tr>\n",
       "  </thead>\n",
       "  <tbody>\n",
       "    <tr>\n",
       "      <th>All</th>\n",
       "      <td>0.076575</td>\n",
       "      <td>0.390879</td>\n",
       "      <td>0.942941</td>\n",
       "      <td>0.987838</td>\n",
       "      <td>0.996447</td>\n",
       "      <td>0.974998</td>\n",
       "      <td>19431</td>\n",
       "      <td>19191</td>\n",
       "      <td>-1.235140</td>\n",
       "    </tr>\n",
       "    <tr>\n",
       "      <th>Utah_AGRC/12TVK220980-CROP</th>\n",
       "      <td>0.071217</td>\n",
       "      <td>0.318303</td>\n",
       "      <td>0.941682</td>\n",
       "      <td>0.989250</td>\n",
       "      <td>0.997850</td>\n",
       "      <td>0.964526</td>\n",
       "      <td>813</td>\n",
       "      <td>826</td>\n",
       "      <td>1.599016</td>\n",
       "    </tr>\n",
       "    <tr>\n",
       "      <th>Utah_AGRC/12TVL160640-CROP</th>\n",
       "      <td>0.151953</td>\n",
       "      <td>0.789277</td>\n",
       "      <td>0.925444</td>\n",
       "      <td>0.968757</td>\n",
       "      <td>0.984379</td>\n",
       "      <td>0.973491</td>\n",
       "      <td>2698</td>\n",
       "      <td>2678</td>\n",
       "      <td>-0.741290</td>\n",
       "    </tr>\n",
       "    <tr>\n",
       "      <th>Utah_AGRC/12TVL160660-CROP</th>\n",
       "      <td>0.059096</td>\n",
       "      <td>0.303064</td>\n",
       "      <td>0.953008</td>\n",
       "      <td>0.991100</td>\n",
       "      <td>0.997864</td>\n",
       "      <td>0.974012</td>\n",
       "      <td>608</td>\n",
       "      <td>656</td>\n",
       "      <td>7.894737</td>\n",
       "    </tr>\n",
       "    <tr>\n",
       "      <th>Utah_AGRC/12TVL180140</th>\n",
       "      <td>0.019792</td>\n",
       "      <td>0.166875</td>\n",
       "      <td>0.983403</td>\n",
       "      <td>0.997222</td>\n",
       "      <td>0.999792</td>\n",
       "      <td>0.989306</td>\n",
       "      <td>806</td>\n",
       "      <td>925</td>\n",
       "      <td>14.764268</td>\n",
       "    </tr>\n",
       "    <tr>\n",
       "      <th>Utah_AGRC/12TVL200180</th>\n",
       "      <td>0.029792</td>\n",
       "      <td>0.275505</td>\n",
       "      <td>0.980694</td>\n",
       "      <td>0.994444</td>\n",
       "      <td>0.998125</td>\n",
       "      <td>0.986250</td>\n",
       "      <td>751</td>\n",
       "      <td>824</td>\n",
       "      <td>9.720373</td>\n",
       "    </tr>\n",
       "    <tr>\n",
       "      <th>Utah_AGRC/12TVL220360-CROP</th>\n",
       "      <td>0.031702</td>\n",
       "      <td>0.202860</td>\n",
       "      <td>0.972260</td>\n",
       "      <td>0.996647</td>\n",
       "      <td>0.999543</td>\n",
       "      <td>0.980948</td>\n",
       "      <td>546</td>\n",
       "      <td>598</td>\n",
       "      <td>9.523810</td>\n",
       "    </tr>\n",
       "    <tr>\n",
       "      <th>Utah_AGRC/12TVL240120</th>\n",
       "      <td>0.183264</td>\n",
       "      <td>0.541025</td>\n",
       "      <td>0.854861</td>\n",
       "      <td>0.972431</td>\n",
       "      <td>0.992917</td>\n",
       "      <td>0.950069</td>\n",
       "      <td>13209</td>\n",
       "      <td>12684</td>\n",
       "      <td>-3.974563</td>\n",
       "    </tr>\n",
       "  </tbody>\n",
       "</table>\n",
       "</div>"
      ],
      "text/plain": [
       "                                 MAE      RMSE  Accuracy  Accuracy ±1  \\\n",
       "All                         0.076575  0.390879  0.942941     0.987838   \n",
       "Utah_AGRC/12TVK220980-CROP  0.071217  0.318303  0.941682     0.989250   \n",
       "Utah_AGRC/12TVL160640-CROP  0.151953  0.789277  0.925444     0.968757   \n",
       "Utah_AGRC/12TVL160660-CROP  0.059096  0.303064  0.953008     0.991100   \n",
       "Utah_AGRC/12TVL180140       0.019792  0.166875  0.983403     0.997222   \n",
       "Utah_AGRC/12TVL200180       0.029792  0.275505  0.980694     0.994444   \n",
       "Utah_AGRC/12TVL220360-CROP  0.031702  0.202860  0.972260     0.996647   \n",
       "Utah_AGRC/12TVL240120       0.183264  0.541025  0.854861     0.972431   \n",
       "\n",
       "                            Accuracy ±2  Proposal accuracy  Labeled  Counted  \\\n",
       "All                            0.996447           0.974998    19431    19191   \n",
       "Utah_AGRC/12TVK220980-CROP     0.997850           0.964526      813      826   \n",
       "Utah_AGRC/12TVL160640-CROP     0.984379           0.973491     2698     2678   \n",
       "Utah_AGRC/12TVL160660-CROP     0.997864           0.974012      608      656   \n",
       "Utah_AGRC/12TVL180140          0.999792           0.989306      806      925   \n",
       "Utah_AGRC/12TVL200180          0.998125           0.986250      751      824   \n",
       "Utah_AGRC/12TVL220360-CROP     0.999543           0.980948      546      598   \n",
       "Utah_AGRC/12TVL240120          0.992917           0.950069    13209    12684   \n",
       "\n",
       "                            Error over scene(s) [%]  \n",
       "All                                       -1.235140  \n",
       "Utah_AGRC/12TVK220980-CROP                 1.599016  \n",
       "Utah_AGRC/12TVL160640-CROP                -0.741290  \n",
       "Utah_AGRC/12TVL160660-CROP                 7.894737  \n",
       "Utah_AGRC/12TVL180140                     14.764268  \n",
       "Utah_AGRC/12TVL200180                      9.720373  \n",
       "Utah_AGRC/12TVL220360-CROP                 9.523810  \n",
       "Utah_AGRC/12TVL240120                     -3.974563  "
      ]
     },
     "execution_count": 6,
     "metadata": {},
     "output_type": "execute_result"
    }
   ],
   "source": [
    "# Ok, wrap these metrics into pandas DataFrame to show them in one table\n",
    "\n",
    "def rename_keys(metrics, cars):\n",
    "    \n",
    "    renamed = {}\n",
    "    \n",
    "    renamed['MAE'] = metrics['mae']\n",
    "    renamed['RMSE'] = metrics['rmse']\n",
    "    renamed['Accuracy'] = metrics['accuracy']\n",
    "    renamed['Accuracy ±1'] = metrics['accuracy_1']\n",
    "    renamed['Accuracy ±2'] = metrics['accuracy_2']\n",
    "    renamed['Proposal accuracy'] = metrics['proposal_accuracy']\n",
    "    \n",
    "    renamed['Labeled'] = cars['labeled']\n",
    "    renamed['Counted'] = cars['counted']\n",
    "    \n",
    "    return renamed\n",
    "\n",
    "\n",
    "metrics_dict = {}\n",
    "\n",
    "for scene_info in scene_info_list:\n",
    "    scene = scene_info['scene']\n",
    "    metrics_dict[scene] = rename_keys(scene_info['eval']['metrics'], scene_info['eval']['cars'])\n",
    "\n",
    "metrics_dict['All'] = rename_keys(eval_result['metrics'], eval_result['cars'])\n",
    "\n",
    "\n",
    "metrics_df = pd.DataFrame.from_dict(metrics_dict, orient='index')\n",
    "metrics_df['Error over scene(s) [%]'] = (metrics_df['Counted'] - metrics_df['Labeled']) / metrics_df['Labeled'] * 100.0\n",
    "metrics_df.sort_index(ascending=True)\n",
    "\n",
    "metrics_df"
   ]
  },
  {
   "cell_type": "markdown",
   "metadata": {},
   "source": [
    "## Show confusion matrix over all test scenes"
   ]
  },
  {
   "cell_type": "code",
   "execution_count": 7,
   "metadata": {},
   "outputs": [],
   "source": [
    "def plot_confusion_matrix(cm, classes,\n",
    "                          normalize=True,\n",
    "                          title='Confusion matrix',\n",
    "                          cmap=plt.cm.Blues,\n",
    "                          figsize=(10, 8)):\n",
    "    \"\"\"\n",
    "    This function prints and plots the confusion matrix.\n",
    "    Normalization can be applied by setting `normalize=True`.\n",
    "    \"\"\"\n",
    "    cm_orig = cm.copy()\n",
    "    \n",
    "    if normalize:\n",
    "        cm = cm.astype('float') / cm.sum(axis=1)[:, np.newaxis]\n",
    "    \n",
    "    fig = plt.figure(figsize=figsize)\n",
    "\n",
    "    plt.imshow(cm, interpolation='nearest', cmap=cmap)\n",
    "    plt.title(title)\n",
    "    plt.colorbar()\n",
    "    tick_marks = np.arange(len(classes))\n",
    "    plt.xticks(tick_marks, classes, rotation=45)\n",
    "    plt.yticks(tick_marks, classes)\n",
    "\n",
    "    fmt = 'd'\n",
    "    thresh = cm.max() / 2.\n",
    "    for i, j in itertools.product(range(cm.shape[0]), range(cm.shape[1])):\n",
    "        plt.text(j, i, format(cm_orig[i, j], fmt),\n",
    "                 horizontalalignment=\"center\",\n",
    "                 color=\"white\" if cm[i, j] > thresh else \"black\")\n",
    "\n",
    "    plt.ylabel('Ground-truth car number')\n",
    "    plt.xlabel('Predicted car number')\n",
    "    plt.tight_layout()"
   ]
  },
  {
   "cell_type": "code",
   "execution_count": 8,
   "metadata": {},
   "outputs": [
    {
     "data": {
      "image/png": "[encoded data removed]",
      "text/plain": [
       "<Figure size 720x576 with 2 Axes>"
      ]
     },
     "metadata": {
      "needs_background": "light"
     },
     "output_type": "display_data"
    }
   ],
   "source": [
    "confusion = eval_result['confusion']\n",
    "\n",
    "plot_confusion_matrix(confusion, np.arange(confusion.shape[0]), title='Confusion matrix over all test scenes')"
   ]
  },
  {
   "cell_type": "code",
   "execution_count": null,
   "metadata": {},
   "outputs": [],
   "source": []
  }
 ],
 "metadata": {
  "kernelspec": {
   "display_name": "Python 3",
   "language": "python",
   "name": "python3"
  },
  "language_info": {
   "codemirror_mode": {
    "name": "ipython",
    "version": 3
   },
   "file_extension": ".py",
   "mimetype": "text/x-python",
   "name": "python",
   "nbconvert_exporter": "python",
   "pygments_lexer": "ipython3",
   "version": "3.6.6"
  }
 },
 "nbformat": 4,
 "nbformat_minor": 2
}
