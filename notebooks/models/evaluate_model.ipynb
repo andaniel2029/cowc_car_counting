{
 "cells": [
  {
   "cell_type": "code",
   "execution_count": 1,
   "metadata": {},
   "outputs": [
    {
     "name": "stderr",
     "output_type": "stream",
     "text": [
      "/opt/conda/envs/py3.6/lib/python3.6/site-packages/cupy/core/fusion.py:659: FutureWarning: cupy.core.fusion is experimental. The interface can change in the future.\n",
      "  util.experimental('cupy.core.fusion')\n"
     ]
    }
   ],
   "source": [
    "import os\n",
    "import cv2\n",
    "import numpy as np\n",
    "from skimage import io\n",
    "import itertools\n",
    "import pickle\n",
    "from pprint import pprint\n",
    "import pandas as pd\n",
    "from collections import OrderedDict\n",
    "\n",
    "import matplotlib.pyplot as plt\n",
    "%matplotlib inline\n",
    "\n",
    "import sys\n",
    "sys.path.append(\"../../src/models\")\n",
    "\n",
    "from predict import CarCountingModel as Model\n",
    "from evaluate_model import evaluate_model"
   ]
  },
  {
   "cell_type": "markdown",
   "metadata": {},
   "source": [
    "## Count cars on all test scenes"
   ]
  },
  {
   "cell_type": "code",
   "execution_count": 2,
   "metadata": {},
   "outputs": [],
   "source": [
    "model_path = \"../../models/logs/model_iter_85458\"\n",
    "insize = 96\n",
    "count_ignore_width=8\n",
    "car_max = 9\n",
    "class_num = car_max + 1\n",
    "\n",
    "mean_path = \"../../data/cowc_processed/train_val/crop/mean.npy\"\n",
    "mean = np.load(mean_path)\n",
    "\n",
    "model = Model(model_path, class_num, insize, mean)"
   ]
  },
  {
   "cell_type": "code",
   "execution_count": 3,
   "metadata": {},
   "outputs": [
    {
     "name": "stdout",
     "output_type": "stream",
     "text": [
      "Loading Utah_AGRC/12TVL180140 ... (1/7)\n"
     ]
    },
    {
     "name": "stderr",
     "output_type": "stream",
     "text": [
      "27889 / 27889\n"
     ]
    },
    {
     "name": "stdout",
     "output_type": "stream",
     "text": [
      "Loading Utah_AGRC/12TVL200180 ... (2/7)\n"
     ]
    },
    {
     "name": "stderr",
     "output_type": "stream",
     "text": [
      "27889 / 27889\n"
     ]
    },
    {
     "name": "stdout",
     "output_type": "stream",
     "text": [
      "Loading Utah_AGRC/12TVL240120 ... (3/7)\n"
     ]
    },
    {
     "name": "stderr",
     "output_type": "stream",
     "text": [
      "27889 / 27889\n"
     ]
    },
    {
     "name": "stdout",
     "output_type": "stream",
     "text": [
      "Loading Utah_AGRC/12TVK220980-CROP ... (4/7)\n"
     ]
    },
    {
     "name": "stderr",
     "output_type": "stream",
     "text": [
      "7225 / 7225\n"
     ]
    },
    {
     "name": "stdout",
     "output_type": "stream",
     "text": [
      "Loading Utah_AGRC/12TVL160640-CROP ... (5/7)\n"
     ]
    },
    {
     "name": "stderr",
     "output_type": "stream",
     "text": [
      "8281 / 8281\n"
     ]
    },
    {
     "name": "stdout",
     "output_type": "stream",
     "text": [
      "Loading Utah_AGRC/12TVL160660-CROP ... (6/7)\n"
     ]
    },
    {
     "name": "stderr",
     "output_type": "stream",
     "text": [
      "5476 / 5476\n"
     ]
    },
    {
     "name": "stdout",
     "output_type": "stream",
     "text": [
      "Loading Utah_AGRC/12TVL220360-CROP ... (7/7)\n"
     ]
    },
    {
     "name": "stderr",
     "output_type": "stream",
     "text": [
      "12769 / 12769\n"
     ]
    }
   ],
   "source": [
    "eval_result, scene_info_list = evaluate_model(\n",
    "    model,\n",
    "    test_scene_list=\"../../data/cowc_processed/test/test_scenes.txt\", \n",
    "    data_root=\"../../data/cowc/datasets/ground_truth_sets\",\n",
    "    count_ignore_width=count_ignore_width,\n",
    "    car_max=car_max\n",
    ")\n",
    "\n",
    "with open(\"eval_result.pickle\", 'wb') as handle:\n",
    "    pickle.dump(eval_result, handle, protocol=pickle.HIGHEST_PROTOCOL)\n",
    "\n",
    "with open(\"scene_info_list.pickle\", 'wb') as handle:\n",
    "    pickle.dump(scene_info_list, handle, protocol=pickle.HIGHEST_PROTOCOL)"
   ]
  },
  {
   "cell_type": "code",
   "execution_count": 4,
   "metadata": {},
   "outputs": [],
   "source": [
    "#with open(\"eval_result.pickle\", 'rb') as handle:\n",
    "#    eval_result = pickle.load(handle)\n",
    "\n",
    "#with open(\"scene_info_list.pickle\", 'rb') as handle:\n",
    "#    scene_info_list = pickle.load(handle)"
   ]
  },
  {
   "cell_type": "markdown",
   "metadata": {},
   "source": [
    "## Show evaluation result over all test scenes and at each scene"
   ]
  },
  {
   "cell_type": "code",
   "execution_count": 5,
   "metadata": {},
   "outputs": [
    {
     "name": "stdout",
     "output_type": "stream",
     "text": [
      "{'accuracy': 0.9739051934115723,\n",
      " 'accuracy_1': 0.9960568226336678,\n",
      " 'accuracy_2': 0.9989098775315539,\n",
      " 'mae': 0.032209712309867314,\n",
      " 'proposal_accuracy': 0.9869525967057862,\n",
      " 'rmse': 0.2308240361082472}\n",
      "{'counted': 18557, 'labeled': 19507}\n"
     ]
    }
   ],
   "source": [
    "# Evaluation metrics over all test scenes\n",
    "pprint(eval_result['metrics'])\n",
    "pprint(eval_result['cars'])"
   ]
  },
  {
   "cell_type": "code",
   "execution_count": 6,
   "metadata": {
    "scrolled": false
   },
   "outputs": [
    {
     "name": "stdout",
     "output_type": "stream",
     "text": [
      "Utah_AGRC/12TVL180140\n",
      "{'accuracy': 0.9933665602925885,\n",
      " 'accuracy_1': 0.9994621535372369,\n",
      " 'accuracy_2': 0.9998924307074474,\n",
      " 'mae': 0.00727885546272724,\n",
      " 'proposal_accuracy': 0.9953745204202373,\n",
      " 'rmse': 0.0937274002544822}\n",
      "{'counted': 839, 'labeled': 806}\n",
      "\n",
      "Utah_AGRC/12TVL200180\n",
      "{'accuracy': 0.9905697586862203,\n",
      " 'accuracy_1': 0.9980637527340529,\n",
      " 'accuracy_2': 0.9995697228297895,\n",
      " 'mae': 0.012047760765893364,\n",
      " 'proposal_accuracy': 0.9939761196170533,\n",
      " 'rmse': 0.13863277727892487}\n",
      "{'counted': 779, 'labeled': 751}\n",
      "\n",
      "Utah_AGRC/12TVL240120\n",
      "{'accuracy': 0.9345261572663057,\n",
      " 'accuracy_1': 0.992075728781957,\n",
      " 'accuracy_2': 0.9987808813510703,\n",
      " 'mae': 0.07490408404747391,\n",
      " 'proposal_accuracy': 0.9699164545161175,\n",
      " 'rmse': 0.31223970837086684}\n",
      "{'counted': 12412, 'labeled': 13201}\n",
      "\n",
      "Utah_AGRC/12TVK220980-CROP\n",
      "{'accuracy': 0.9760553633217993,\n",
      " 'accuracy_1': 0.9982006920415225,\n",
      " 'accuracy_2': 0.9995847750865052,\n",
      " 'mae': 0.02615916955017301,\n",
      " 'proposal_accuracy': 0.9851903114186851,\n",
      " 'rmse': 0.1772531667449337}\n",
      "{'counted': 791, 'labeled': 812}\n",
      "\n",
      "Utah_AGRC/12TVL160640-CROP\n",
      "{'accuracy': 0.9518174133558749,\n",
      " 'accuracy_1': 0.9828523125226422,\n",
      " 'accuracy_2': 0.9910638811737713,\n",
      " 'mae': 0.0877913295495713,\n",
      " 'proposal_accuracy': 0.9835768626977418,\n",
      " 'rmse': 0.5209069404172014}\n",
      "{'counted': 2592, 'labeled': 2783}\n",
      "\n",
      "Utah_AGRC/12TVL160660-CROP\n",
      "{'accuracy': 0.9777209642074507,\n",
      " 'accuracy_1': 0.9972607742878014,\n",
      " 'accuracy_2': 0.9996347699050402,\n",
      " 'mae': 0.025383491599707816,\n",
      " 'proposal_accuracy': 0.9850255661066472,\n",
      " 'rmse': 0.17978560399527121}\n",
      "{'counted': 609, 'labeled': 608}\n",
      "\n",
      "Utah_AGRC/12TVL220360-CROP\n",
      "{'accuracy': 0.9924817918396116,\n",
      " 'accuracy_1': 0.9997650559949879,\n",
      " 'accuracy_2': 1.0,\n",
      " 'mae': 0.00775315216540058,\n",
      " 'proposal_accuracy': 0.9944396585480461,\n",
      " 'rmse': 0.09068098022973096}\n",
      "{'counted': 535, 'labeled': 546}\n",
      "\n"
     ]
    }
   ],
   "source": [
    "# Evaluation metrics at each test scene\n",
    "for scene_info in scene_info_list:\n",
    "    print(scene_info['scene'])\n",
    "    pprint(scene_info['eval']['metrics'])\n",
    "    pprint(scene_info['eval']['cars'])\n",
    "    print()"
   ]
  },
  {
   "cell_type": "code",
   "execution_count": 7,
   "metadata": {},
   "outputs": [
    {
     "data": {
      "text/html": [
       "<div>\n",
       "<style scoped>\n",
       "    .dataframe tbody tr th:only-of-type {\n",
       "        vertical-align: middle;\n",
       "    }\n",
       "\n",
       "    .dataframe tbody tr th {\n",
       "        vertical-align: top;\n",
       "    }\n",
       "\n",
       "    .dataframe thead th {\n",
       "        text-align: right;\n",
       "    }\n",
       "</style>\n",
       "<table border=\"1\" class=\"dataframe\">\n",
       "  <thead>\n",
       "    <tr style=\"text-align: right;\">\n",
       "      <th></th>\n",
       "      <th>Labeled cars</th>\n",
       "      <th>MAE</th>\n",
       "      <th>RMSE</th>\n",
       "      <th>Accuracy</th>\n",
       "      <th>Accuracy ±1</th>\n",
       "      <th>Accuracy ±2</th>\n",
       "      <th>Proposal accuracy</th>\n",
       "    </tr>\n",
       "  </thead>\n",
       "  <tbody>\n",
       "    <tr>\n",
       "      <th>All</th>\n",
       "      <td>19507</td>\n",
       "      <td>0.032210</td>\n",
       "      <td>0.230824</td>\n",
       "      <td>0.973905</td>\n",
       "      <td>0.996057</td>\n",
       "      <td>0.998910</td>\n",
       "      <td>0.986953</td>\n",
       "    </tr>\n",
       "    <tr>\n",
       "      <th>Utah_AGRC/12TVK220980-CROP</th>\n",
       "      <td>812</td>\n",
       "      <td>0.026159</td>\n",
       "      <td>0.177253</td>\n",
       "      <td>0.976055</td>\n",
       "      <td>0.998201</td>\n",
       "      <td>0.999585</td>\n",
       "      <td>0.985190</td>\n",
       "    </tr>\n",
       "    <tr>\n",
       "      <th>Utah_AGRC/12TVL160640-CROP</th>\n",
       "      <td>2783</td>\n",
       "      <td>0.087791</td>\n",
       "      <td>0.520907</td>\n",
       "      <td>0.951817</td>\n",
       "      <td>0.982852</td>\n",
       "      <td>0.991064</td>\n",
       "      <td>0.983577</td>\n",
       "    </tr>\n",
       "    <tr>\n",
       "      <th>Utah_AGRC/12TVL160660-CROP</th>\n",
       "      <td>608</td>\n",
       "      <td>0.025383</td>\n",
       "      <td>0.179786</td>\n",
       "      <td>0.977721</td>\n",
       "      <td>0.997261</td>\n",
       "      <td>0.999635</td>\n",
       "      <td>0.985026</td>\n",
       "    </tr>\n",
       "    <tr>\n",
       "      <th>Utah_AGRC/12TVL180140</th>\n",
       "      <td>806</td>\n",
       "      <td>0.007279</td>\n",
       "      <td>0.093727</td>\n",
       "      <td>0.993367</td>\n",
       "      <td>0.999462</td>\n",
       "      <td>0.999892</td>\n",
       "      <td>0.995375</td>\n",
       "    </tr>\n",
       "    <tr>\n",
       "      <th>Utah_AGRC/12TVL200180</th>\n",
       "      <td>751</td>\n",
       "      <td>0.012048</td>\n",
       "      <td>0.138633</td>\n",
       "      <td>0.990570</td>\n",
       "      <td>0.998064</td>\n",
       "      <td>0.999570</td>\n",
       "      <td>0.993976</td>\n",
       "    </tr>\n",
       "    <tr>\n",
       "      <th>Utah_AGRC/12TVL220360-CROP</th>\n",
       "      <td>546</td>\n",
       "      <td>0.007753</td>\n",
       "      <td>0.090681</td>\n",
       "      <td>0.992482</td>\n",
       "      <td>0.999765</td>\n",
       "      <td>1.000000</td>\n",
       "      <td>0.994440</td>\n",
       "    </tr>\n",
       "    <tr>\n",
       "      <th>Utah_AGRC/12TVL240120</th>\n",
       "      <td>13201</td>\n",
       "      <td>0.074904</td>\n",
       "      <td>0.312240</td>\n",
       "      <td>0.934526</td>\n",
       "      <td>0.992076</td>\n",
       "      <td>0.998781</td>\n",
       "      <td>0.969916</td>\n",
       "    </tr>\n",
       "  </tbody>\n",
       "</table>\n",
       "</div>"
      ],
      "text/plain": [
       "                            Labeled cars       MAE      RMSE  Accuracy  \\\n",
       "All                                19507  0.032210  0.230824  0.973905   \n",
       "Utah_AGRC/12TVK220980-CROP           812  0.026159  0.177253  0.976055   \n",
       "Utah_AGRC/12TVL160640-CROP          2783  0.087791  0.520907  0.951817   \n",
       "Utah_AGRC/12TVL160660-CROP           608  0.025383  0.179786  0.977721   \n",
       "Utah_AGRC/12TVL180140                806  0.007279  0.093727  0.993367   \n",
       "Utah_AGRC/12TVL200180                751  0.012048  0.138633  0.990570   \n",
       "Utah_AGRC/12TVL220360-CROP           546  0.007753  0.090681  0.992482   \n",
       "Utah_AGRC/12TVL240120              13201  0.074904  0.312240  0.934526   \n",
       "\n",
       "                            Accuracy ±1  Accuracy ±2  Proposal accuracy  \n",
       "All                            0.996057     0.998910           0.986953  \n",
       "Utah_AGRC/12TVK220980-CROP     0.998201     0.999585           0.985190  \n",
       "Utah_AGRC/12TVL160640-CROP     0.982852     0.991064           0.983577  \n",
       "Utah_AGRC/12TVL160660-CROP     0.997261     0.999635           0.985026  \n",
       "Utah_AGRC/12TVL180140          0.999462     0.999892           0.995375  \n",
       "Utah_AGRC/12TVL200180          0.998064     0.999570           0.993976  \n",
       "Utah_AGRC/12TVL220360-CROP     0.999765     1.000000           0.994440  \n",
       "Utah_AGRC/12TVL240120          0.992076     0.998781           0.969916  "
      ]
     },
     "execution_count": 7,
     "metadata": {},
     "output_type": "execute_result"
    }
   ],
   "source": [
    "# Ok, wrap these metrics into pandas DataFrame to show them in one table\n",
    "\n",
    "def rename_keys(metrics, cars):\n",
    "    \n",
    "    renamed = {}\n",
    "    renamed['Labeled cars'] = cars['labeled']\n",
    "    \n",
    "    renamed['MAE'] = metrics['mae']\n",
    "    renamed['RMSE'] = metrics['rmse']\n",
    "    renamed['Accuracy'] = metrics['accuracy']\n",
    "    renamed['Accuracy ±1'] = metrics['accuracy_1']\n",
    "    renamed['Accuracy ±2'] = metrics['accuracy_2']\n",
    "    renamed['Proposal accuracy'] = metrics['proposal_accuracy']\n",
    "    \n",
    "    return renamed\n",
    "\n",
    "\n",
    "metrics_dict = {}\n",
    "\n",
    "for scene_info in scene_info_list:\n",
    "    scene = scene_info['scene']\n",
    "    metrics_dict[scene] = rename_keys(scene_info['eval']['metrics'], scene_info['eval']['cars'])\n",
    "\n",
    "metrics_dict['All'] = rename_keys(eval_result['metrics'], eval_result['cars'])\n",
    "\n",
    "\n",
    "metrics_df = pd.DataFrame.from_dict(metrics_dict, orient='index')\n",
    "metrics_df.sort_index(ascending=True)\n",
    "\n",
    "metrics_df"
   ]
  },
  {
   "cell_type": "markdown",
   "metadata": {},
   "source": [
    "## Plot ground-truth vs predicted car number with RMS errors"
   ]
  },
  {
   "cell_type": "code",
   "execution_count": 8,
   "metadata": {},
   "outputs": [
    {
     "name": "stdout",
     "output_type": "stream",
     "text": [
      "{0: {'accuracy': 0.9941574529453093,\n",
      "     'accuracy_1': 0.999371371519432,\n",
      "     'accuracy_2': 0.9998705764892948,\n",
      "     'mae': 0.006656066264837481,\n",
      "     'mean': 0.006656066264837481,\n",
      "     'rmse': 0.09371397790614748},\n",
      " 1: {'accuracy': 0.7997885835095138,\n",
      "     'accuracy_1': 0.9968287526427061,\n",
      "     'accuracy_2': 0.9985200845665962,\n",
      "     'mae': 0.20486257928118393,\n",
      "     'mean': 0.8906976744186047,\n",
      "     'rmse': 0.4659664534377844},\n",
      " 2: {'accuracy': 0.7455,\n",
      "     'accuracy_1': 0.943,\n",
      "     'accuracy_2': 0.999,\n",
      "     'mae': 0.313,\n",
      "     'mean': 1.807,\n",
      "     'rmse': 0.6587867636800242},\n",
      " 3: {'accuracy': 0.6654099905749293,\n",
      "     'accuracy_1': 0.9236569274269557,\n",
      "     'accuracy_2': 0.9764373232799246,\n",
      "     'mae': 0.43732327992459946,\n",
      "     'mean': 2.764373232799246,\n",
      "     'rmse': 0.8407617389024443},\n",
      " 4: {'accuracy': 0.6661931818181818,\n",
      "     'accuracy_1': 0.9161931818181818,\n",
      "     'accuracy_2': 0.9715909090909091,\n",
      "     'mae': 0.4630681818181818,\n",
      "     'mean': 3.8380681818181817,\n",
      "     'rmse': 0.9231861823449955},\n",
      " 5: {'accuracy': 0.547112462006079,\n",
      "     'accuracy_1': 0.8723404255319149,\n",
      "     'accuracy_2': 0.9209726443768997,\n",
      "     'mae': 0.7325227963525835,\n",
      "     'mean': 4.589665653495441,\n",
      "     'rmse': 1.3380110448837867},\n",
      " 6: {'accuracy': 0.37209302325581395,\n",
      "     'accuracy_1': 0.7596899224806202,\n",
      "     'accuracy_2': 0.9147286821705426,\n",
      "     'mae': 1.0852713178294573,\n",
      "     'mean': 5.503875968992248,\n",
      "     'rmse': 1.7027110166442074},\n",
      " 7: {'accuracy': 0.3157894736842105,\n",
      "     'accuracy_1': 0.7684210526315789,\n",
      "     'accuracy_2': 0.8736842105263158,\n",
      "     'mae': 1.3789473684210527,\n",
      "     'mean': 6.126315789473685,\n",
      "     'rmse': 2.3192557789991715},\n",
      " 8: {'accuracy': 0.36363636363636365,\n",
      "     'accuracy_1': 0.7727272727272727,\n",
      "     'accuracy_2': 0.9090909090909091,\n",
      "     'mae': 1.25,\n",
      "     'mean': 7.25,\n",
      "     'rmse': 2.215646837627989},\n",
      " 9: {'accuracy': 0.6818181818181818,\n",
      "     'accuracy_1': 0.9,\n",
      "     'accuracy_2': 0.9727272727272728,\n",
      "     'mae': 0.5,\n",
      "     'mean': 8.5,\n",
      "     'rmse': 1.1870513506545997}}\n"
     ]
    }
   ],
   "source": [
    "# Use`mean` and `rms` values to plot\n",
    "\n",
    "pprint(eval_result['stats'])"
   ]
  },
  {
   "cell_type": "code",
   "execution_count": 9,
   "metadata": {},
   "outputs": [
    {
     "data": {
      "image/png": "[encoded data removed]",
      "text/plain": [
       "<Figure size 576x576 with 1 Axes>"
      ]
     },
     "metadata": {
      "needs_background": "light"
     },
     "output_type": "display_data"
    }
   ],
   "source": [
    "cars_gt = np.arange(car_max + 1)\n",
    "means = np.empty(shape=[car_max + 1,])\n",
    "errors = np.empty(shape=[car_max + 1,])\n",
    "\n",
    "for (k, v) in eval_result['stats'].items():\n",
    "    means[k] = v['mean']\n",
    "    errors[k] = v['rmse']\n",
    "\n",
    "# Plot\n",
    "fig = plt.figure(figsize=(8, 8))\n",
    "plt.plot(cars_gt, cars_gt, '--', lw=1, label='Ideal')\n",
    "plt.errorbar(cars_gt, means, yerr=errors, lw=1, capsize=4, capthick=2, fmt='-o', label='Model')\n",
    "\n",
    "plt.xticks(np.arange(car_max+1))\n",
    "plt.yticks(np.arange(car_max+1))\n",
    "plt.grid()\n",
    "\n",
    "plt.title('Ground-truth vs predicted car number with RMS error bars')\n",
    "plt.xlabel('Ground-truth car number')\n",
    "plt.ylabel('Predicted car number')\n",
    "\n",
    "plt.legend();"
   ]
  },
  {
   "cell_type": "markdown",
   "metadata": {},
   "source": [
    "## Show confusion matrix over all test scenes"
   ]
  },
  {
   "cell_type": "code",
   "execution_count": 10,
   "metadata": {},
   "outputs": [],
   "source": [
    "def plot_confusion_matrix(cm, classes,\n",
    "                          normalize=True,\n",
    "                          title='Confusion matrix',\n",
    "                          cmap=plt.cm.Blues,\n",
    "                          figsize=(8, 7)):\n",
    "    \"\"\"\n",
    "    This function prints and plots the confusion matrix.\n",
    "    Normalization can be applied by setting `normalize=True`.\n",
    "    \"\"\"\n",
    "    cm_orig = cm.copy()\n",
    "    \n",
    "    if normalize:\n",
    "        cm = cm.astype('float') / cm.sum(axis=1)[:, np.newaxis]\n",
    "    \n",
    "    fig = plt.figure(figsize=figsize)\n",
    "\n",
    "    plt.imshow(cm, interpolation='nearest', cmap=cmap)\n",
    "    plt.title(title)\n",
    "    plt.colorbar()\n",
    "    tick_marks = np.arange(len(classes))\n",
    "    plt.xticks(tick_marks, classes, rotation=45)\n",
    "    plt.yticks(tick_marks, classes)\n",
    "\n",
    "    fmt = 'd'\n",
    "    thresh = cm.max() / 2.\n",
    "    for i, j in itertools.product(range(cm.shape[0]), range(cm.shape[1])):\n",
    "        plt.text(j, i, format(cm_orig[i, j], fmt),\n",
    "                 horizontalalignment=\"center\",\n",
    "                 color=\"white\" if cm[i, j] > thresh else \"black\")\n",
    "\n",
    "    plt.ylabel('Ground-truth car number')\n",
    "    plt.xlabel('Predicted car number')\n",
    "    plt.tight_layout()"
   ]
  },
  {
   "cell_type": "code",
   "execution_count": 11,
   "metadata": {},
   "outputs": [
    {
     "data": {
      "image/png": "[encoded data removed]",
      "text/plain": [
       "<Figure size 576x504 with 2 Axes>"
      ]
     },
     "metadata": {
      "needs_background": "light"
     },
     "output_type": "display_data"
    }
   ],
   "source": [
    "confusion = eval_result['confusion']\n",
    "\n",
    "plot_confusion_matrix(confusion, np.arange(confusion.shape[0]), title='Confusion matrix over all test scenes')"
   ]
  },
  {
   "cell_type": "code",
   "execution_count": null,
   "metadata": {},
   "outputs": [],
   "source": []
  }
 ],
 "metadata": {
  "kernelspec": {
   "display_name": "Python 3",
   "language": "python",
   "name": "python3"
  },
  "language_info": {
   "codemirror_mode": {
    "name": "ipython",
    "version": 3
   },
   "file_extension": ".py",
   "mimetype": "text/x-python",
   "name": "python",
   "nbconvert_exporter": "python",
   "pygments_lexer": "ipython3",
   "version": "3.6.6"
  }
 },
 "nbformat": 4,
 "nbformat_minor": 2
}
