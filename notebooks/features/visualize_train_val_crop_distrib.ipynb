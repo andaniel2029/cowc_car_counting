{
 "cells": [
  {
   "cell_type": "code",
   "execution_count": 1,
   "metadata": {},
   "outputs": [],
   "source": [
    "import os\n",
    "import math\n",
    "import numpy as np\n",
    "import pandas as pd\n",
    "from tqdm import tqdm\n",
    "from pprint import pprint\n",
    "from skimage import io\n",
    "\n",
    "from PIL import Image\n",
    "Image.MAX_IMAGE_PIXELS = 1000000000\n",
    "\n",
    "import sys\n",
    "sys.path.append(\"../../src/features\")\n",
    "\n",
    "from gen_train_val_crops import gen_train_area_mask, gen_crops_from_scene\n",
    "\n",
    "import matplotlib.pyplot as plt\n",
    "%matplotlib inline"
   ]
  },
  {
   "cell_type": "code",
   "execution_count": 2,
   "metadata": {},
   "outputs": [],
   "source": [
    "root_dir = \"../../data/cowc/datasets/ground_truth_sets\"\n",
    "city = \"Utah_AGRC\"\n",
    "data_dir = os.path.join(root_dir, city)\n",
    "\n",
    "image_basename = \"12TVL240120\"\n",
    "\n",
    "image_path = os.path.join(data_dir, image_basename + \".png\")\n",
    "car_label_path = os.path.join(data_dir, image_basename + \"_Annotated_Cars.png\")\n",
    "neg_label_path = os.path.join(data_dir, image_basename +  \"_Annotated_Negatives.png\")\n",
    "\n",
    "image = io.imread(image_path)\n",
    "image = image[:, :, :3] # remove alpha channel\n",
    "\n",
    "label_car = io.imread(car_label_path)\n",
    "label_car = label_car[:, :, 3] # remove alpha channel\n",
    "\n",
    "label_neg = io.imread(neg_label_path)\n",
    "label_neg = label_neg[:, :, 3] # remove alpha channel"
   ]
  },
  {
   "cell_type": "code",
   "execution_count": 3,
   "metadata": {},
   "outputs": [],
   "source": [
    "def colorize(label_image, labels=(0, 1), colors=([255, 0, 0], [0, 0, 255])):\n",
    "    \n",
    "    h, w = label_image.shape\n",
    "    \n",
    "    colorized = np.zeros(shape=[h, w, 3], dtype=np.uint8)\n",
    "             \n",
    "    for (label, color) in zip(labels, colors):\n",
    "        colorized[label_image == label] = np.array(color)\n",
    "    \n",
    "    return colorized"
   ]
  },
  {
   "cell_type": "code",
   "execution_count": 4,
   "metadata": {},
   "outputs": [
    {
     "data": {
      "image/png": "[encoded data removed]",
      "text/plain": [
       "<Figure size 432x288 with 1 Axes>"
      ]
     },
     "metadata": {
      "needs_background": "light"
     },
     "output_type": "display_data"
    }
   ],
   "source": [
    "grid_size = 2048\n",
    "\n",
    "h, w, _ = image.shape\n",
    "train_area_mask = gen_train_area_mask(h, w, grid_size)\n",
    "\n",
    "train_val_mask = colorize(train_area_mask)\n",
    "plt.imshow(train_val_mask)\n",
    "plt.title(\"Train/val mask (Blue:Train, Red:Val)\")\n",
    "plt.show()"
   ]
  },
  {
   "cell_type": "code",
   "execution_count": 5,
   "metadata": {},
   "outputs": [
    {
     "name": "stderr",
     "output_type": "stream",
     "text": [
      "100%|██████████| 26081/26081 [01:18<00:00, 333.26it/s]\n"
     ]
    }
   ],
   "source": [
    "crop_size = 224\n",
    "\n",
    "_, _, train_centers, val_centers = \\\n",
    "gen_crops_from_scene(image, label_car, label_neg, train_area_mask, out_basename=None, out_dir=None, crop_size=crop_size, seed=0)"
   ]
  },
  {
   "cell_type": "code",
   "execution_count": 6,
   "metadata": {},
   "outputs": [],
   "source": [
    "def visualize_crop_footprints(h, w, crop_centers, crop_size):\n",
    "    \n",
    "    crop_footprint = np.zeros(shape=[h, w], dtype=bool)\n",
    "    \n",
    "    for crop_center in tqdm(crop_centers):\n",
    "\n",
    "        y, x = crop_center\n",
    "\n",
    "        top = y - crop_size // 2\n",
    "        left = x - crop_size // 2\n",
    "        bottom = top + crop_size\n",
    "        right = left + crop_size\n",
    "        \n",
    "        crop_footprint[top:bottom, left:right] = True\n",
    "    \n",
    "    return crop_footprint"
   ]
  },
  {
   "cell_type": "code",
   "execution_count": 7,
   "metadata": {},
   "outputs": [
    {
     "name": "stderr",
     "output_type": "stream",
     "text": [
      "100%|██████████| 17491/17491 [00:00<00:00, 35743.41it/s]\n",
      "100%|██████████| 3783/3783 [00:00<00:00, 25502.55it/s]\n"
     ]
    },
    {
     "data": {
      "image/png": "[encoded data removed]",
      "text/plain": [
       "<Figure size 720x360 with 2 Axes>"
      ]
     },
     "metadata": {
      "needs_background": "light"
     },
     "output_type": "display_data"
    }
   ],
   "source": [
    "train_crop_footprint = visualize_crop_footprints(h, w, train_centers, crop_size)\n",
    "val_crop_footprint = visualize_crop_footprints(h, w, val_centers, crop_size)\n",
    "\n",
    "train_footprint = colorize(train_crop_footprint, labels=(1,), colors=([0, 0, 255],))\n",
    "val_footprint = colorize(val_crop_footprint, labels=(1,), colors=([255, 0, 0],))\n",
    "\n",
    "fig, (ax0, ax1) = plt.subplots(ncols=2, figsize=(10, 5))\n",
    "\n",
    "ax0.imshow(train_footprint)\n",
    "ax0.set_title('Train crop footprint (Blue)')\n",
    "ax1.imshow(val_footprint)\n",
    "ax1.set_title('Val crop footprint (Red)')\n",
    "plt.show()"
   ]
  },
  {
   "cell_type": "code",
   "execution_count": null,
   "metadata": {},
   "outputs": [],
   "source": []
  }
 ],
 "metadata": {
  "kernelspec": {
   "display_name": "Python 3",
   "language": "python",
   "name": "python3"
  },
  "language_info": {
   "codemirror_mode": {
    "name": "ipython",
    "version": 3
   },
   "file_extension": ".py",
   "mimetype": "text/x-python",
   "name": "python",
   "nbconvert_exporter": "python",
   "pygments_lexer": "ipython3",
   "version": "3.6.7"
  }
 },
 "nbformat": 4,
 "nbformat_minor": 2
}
