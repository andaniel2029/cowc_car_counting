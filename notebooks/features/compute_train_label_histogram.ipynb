{
 "cells": [
  {
   "cell_type": "code",
   "execution_count": 1,
   "metadata": {},
   "outputs": [
    {
     "name": "stderr",
     "output_type": "stream",
     "text": [
      "/opt/conda/envs/py3.6/lib/python3.6/site-packages/cupy/core/fusion.py:659: FutureWarning: cupy.core.fusion is experimental. The interface can change in the future.\n",
      "  util.experimental('cupy.core.fusion')\n"
     ]
    }
   ],
   "source": [
    "import os\n",
    "import numpy as np\n",
    "import pandas as pd\n",
    "from tqdm import tqdm\n",
    "\n",
    "import matplotlib.pyplot as plt\n",
    "%matplotlib inline\n",
    "\n",
    "import sys\n",
    "sys.path.append(\"../../src/features\")\n",
    "sys.path.append(\"../../src/models\")\n",
    "\n",
    "from compute_histogram import compute_histogram\n",
    "from dataset import CowcDataset_Counting"
   ]
  },
  {
   "cell_type": "code",
   "execution_count": 2,
   "metadata": {},
   "outputs": [
    {
     "name": "stderr",
     "output_type": "stream",
     "text": [
      "100%|██████████| 37331/37331 [01:07<00:00, 551.21it/s]\n"
     ]
    }
   ],
   "source": [
    "train_list = \"../../data/cowc_processed/train_val/crop/train.txt\"\n",
    "data_root = \"../../data/cowc_processed/train_val/crop/data\"\n",
    "\n",
    "train_dataset = CowcDataset_Counting(train_list, data_root)\n",
    "\n",
    "car_count_hist = compute_histogram(train_dataset)\n",
    "hist_pds = pd.Series(car_count_hist)"
   ]
  },
  {
   "cell_type": "code",
   "execution_count": 3,
   "metadata": {},
   "outputs": [
    {
     "name": "stdout",
     "output_type": "stream",
     "text": [
      "\n"
     ]
    },
    {
     "data": {
      "image/png": "[encoded data removed]",
      "text/plain": [
       "<Figure size 720x576 with 1 Axes>"
      ]
     },
     "metadata": {
      "needs_background": "light"
     },
     "output_type": "display_data"
    }
   ],
   "source": [
    "ax = hist_pds.plot(kind='bar', width=1, figsize=(10, 8),  alpha=0.8)\n",
    "\n",
    "ax.set_title(\"Car number distribution in train crops\")\n",
    "ax.set_xlabel(\"Car number\")\n",
    "ax.set_ylabel(\"Crop count\")\n",
    "print()"
   ]
  },
  {
   "cell_type": "code",
   "execution_count": 4,
   "metadata": {},
   "outputs": [
    {
     "name": "stdout",
     "output_type": "stream",
     "text": [
      "car_number, count\n",
      "0     20087\n",
      "1      4649\n",
      "2      3946\n",
      "3      3039\n",
      "4      1782\n",
      "5      1102\n",
      "6       803\n",
      "7       551\n",
      "8       349\n",
      "9       282\n",
      "10      216\n",
      "11      177\n",
      "12      149\n",
      "13      122\n",
      "14       33\n",
      "15       16\n",
      "16       13\n",
      "17        8\n",
      "18        4\n",
      "19        2\n",
      "20        1\n",
      "dtype: int64\n"
     ]
    }
   ],
   "source": [
    "print(\"car_number, count\")\n",
    "\n",
    "print(hist_pds)"
   ]
  },
  {
   "cell_type": "code",
   "execution_count": null,
   "metadata": {},
   "outputs": [],
   "source": []
  }
 ],
 "metadata": {
  "kernelspec": {
   "display_name": "Python 3",
   "language": "python",
   "name": "python3"
  },
  "language_info": {
   "codemirror_mode": {
    "name": "ipython",
    "version": 3
   },
   "file_extension": ".py",
   "mimetype": "text/x-python",
   "name": "python",
   "nbconvert_exporter": "python",
   "pygments_lexer": "ipython3",
   "version": "3.6.6"
  }
 },
 "nbformat": 4,
 "nbformat_minor": 2
}
