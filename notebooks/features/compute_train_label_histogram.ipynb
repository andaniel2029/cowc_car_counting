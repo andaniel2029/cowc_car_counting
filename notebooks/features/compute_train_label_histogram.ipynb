{
 "cells": [
  {
   "cell_type": "code",
   "execution_count": 1,
   "metadata": {},
   "outputs": [
    {
     "name": "stderr",
     "output_type": "stream",
     "text": [
      "/opt/conda/envs/py3.6/lib/python3.6/site-packages/cupy/core/fusion.py:659: FutureWarning: cupy.core.fusion is experimental. The interface can change in the future.\n",
      "  util.experimental('cupy.core.fusion')\n"
     ]
    }
   ],
   "source": [
    "import os\n",
    "import numpy as np\n",
    "import pandas as pd\n",
    "from tqdm import tqdm\n",
    "\n",
    "import matplotlib.pyplot as plt\n",
    "%matplotlib inline\n",
    "\n",
    "import sys\n",
    "sys.path.append(\"../../src/features\")\n",
    "sys.path.append(\"../../src/models\")\n",
    "\n",
    "from compute_histogram import compute_histogram\n",
    "from dataset import CowcDataset_Counting"
   ]
  },
  {
   "cell_type": "code",
   "execution_count": 2,
   "metadata": {},
   "outputs": [
    {
     "name": "stderr",
     "output_type": "stream",
     "text": [
      "100%|██████████| 37981/37981 [00:39<00:00, 953.71it/s] \n"
     ]
    }
   ],
   "source": [
    "train_list = \"../../data/cowc_processed/train_val/crop/train.txt\"\n",
    "data_root = \"../../data/cowc_processed/train_val/crop/train\"\n",
    "crop_size = 96\n",
    "\n",
    "train_dataset = CowcDataset_Counting(train_list, data_root, crop_size)\n",
    "\n",
    "car_count_hist = compute_histogram(train_dataset)"
   ]
  },
  {
   "cell_type": "code",
   "execution_count": 3,
   "metadata": {},
   "outputs": [
    {
     "data": {
      "image/png": "[encoded data removed]",
      "text/plain": [
       "<Figure size 648x432 with 1 Axes>"
      ]
     },
     "metadata": {
      "needs_background": "light"
     },
     "output_type": "display_data"
    },
    {
     "data": {
      "text/html": [
       "<div>\n",
       "<style scoped>\n",
       "    .dataframe tbody tr th:only-of-type {\n",
       "        vertical-align: middle;\n",
       "    }\n",
       "\n",
       "    .dataframe tbody tr th {\n",
       "        vertical-align: top;\n",
       "    }\n",
       "\n",
       "    .dataframe thead th {\n",
       "        text-align: right;\n",
       "    }\n",
       "</style>\n",
       "<table border=\"1\" class=\"dataframe\">\n",
       "  <thead>\n",
       "    <tr style=\"text-align: right;\">\n",
       "      <th></th>\n",
       "      <th>0</th>\n",
       "      <th>1</th>\n",
       "      <th>2</th>\n",
       "      <th>3</th>\n",
       "      <th>4</th>\n",
       "      <th>5</th>\n",
       "      <th>6</th>\n",
       "      <th>7</th>\n",
       "      <th>8</th>\n",
       "      <th>9</th>\n",
       "      <th>10</th>\n",
       "      <th>11</th>\n",
       "      <th>12</th>\n",
       "      <th>13</th>\n",
       "    </tr>\n",
       "  </thead>\n",
       "  <tbody>\n",
       "    <tr>\n",
       "      <th>Patch count</th>\n",
       "      <td>22423</td>\n",
       "      <td>5748</td>\n",
       "      <td>4191</td>\n",
       "      <td>2430</td>\n",
       "      <td>1306</td>\n",
       "      <td>862</td>\n",
       "      <td>455</td>\n",
       "      <td>307</td>\n",
       "      <td>184</td>\n",
       "      <td>55</td>\n",
       "      <td>15</td>\n",
       "      <td>3</td>\n",
       "      <td>1</td>\n",
       "      <td>1</td>\n",
       "    </tr>\n",
       "  </tbody>\n",
       "</table>\n",
       "</div>"
      ],
      "text/plain": [
       "                0     1     2     3     4    5    6    7    8   9   10  11  \\\n",
       "Patch count  22423  5748  4191  2430  1306  862  455  307  184  55  15   3   \n",
       "\n",
       "             12  13  \n",
       "Patch count   1   1  "
      ]
     },
     "execution_count": 3,
     "metadata": {},
     "output_type": "execute_result"
    }
   ],
   "source": [
    "hist_df = pd.DataFrame(car_count_hist, columns=['Patch count'])\n",
    "\n",
    "ax = hist_df.plot(kind='bar', width=0.9, figsize=(9, 6),  alpha=0.8, legend=False)\n",
    "ax.set_title(\"Car number distribution in train patches\")\n",
    "ax.set_xlabel(\"Car number\")\n",
    "ax.set_ylabel(\"Patch count\")\n",
    "plt.show()\n",
    "\n",
    "hist_df.T"
   ]
  },
  {
   "cell_type": "code",
   "execution_count": null,
   "metadata": {},
   "outputs": [],
   "source": []
  }
 ],
 "metadata": {
  "kernelspec": {
   "display_name": "Python 3",
   "language": "python",
   "name": "python3"
  },
  "language_info": {
   "codemirror_mode": {
    "name": "ipython",
    "version": 3
   },
   "file_extension": ".py",
   "mimetype": "text/x-python",
   "name": "python",
   "nbconvert_exporter": "python",
   "pygments_lexer": "ipython3",
   "version": "3.6.6"
  }
 },
 "nbformat": 4,
 "nbformat_minor": 2
}
