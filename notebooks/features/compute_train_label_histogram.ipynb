{
 "cells": [
  {
   "cell_type": "code",
   "execution_count": 1,
   "metadata": {},
   "outputs": [],
   "source": [
    "import os\n",
    "import numpy as np\n",
    "import pandas as pd\n",
    "from tqdm import tqdm\n",
    "\n",
    "import matplotlib.pyplot as plt\n",
    "%matplotlib inline\n",
    "\n",
    "import sys\n",
    "sys.path.append(\"../../src/features\")\n",
    "sys.path.append(\"../../src/models\")\n",
    "\n",
    "from compute_histogram import compute_histogram\n",
    "from dataset import CowcDataset_Counting"
   ]
  },
  {
   "cell_type": "code",
   "execution_count": 2,
   "metadata": {},
   "outputs": [
    {
     "name": "stderr",
     "output_type": "stream",
     "text": [
      "100%|██████████| 34266/34266 [03:45<00:00, 151.91it/s]\n"
     ]
    }
   ],
   "source": [
    "train_list = \"../../data/cowc_processed/train_val/crop/train.txt\"\n",
    "data_root = \"../../data/cowc_processed/train_val/crop/data\"\n",
    "\n",
    "train_dataset = CowcDataset_Counting(train_list, data_root)\n",
    "\n",
    "car_count_hist = compute_histogram(train_dataset)\n",
    "hist_pds = pd.Series(car_count_hist)"
   ]
  },
  {
   "cell_type": "code",
   "execution_count": 3,
   "metadata": {},
   "outputs": [
    {
     "name": "stdout",
     "output_type": "stream",
     "text": [
      "\n"
     ]
    },
    {
     "data": {
      "image/png": "[encoded data removed]",
      "text/plain": [
       "<Figure size 720x576 with 1 Axes>"
      ]
     },
     "metadata": {
      "needs_background": "light"
     },
     "output_type": "display_data"
    }
   ],
   "source": [
    "ax = hist_pds.plot(kind='bar', width=1, figsize=(10, 8),  alpha=0.8)\n",
    "\n",
    "ax.set_title(\"Car number distribution in train crops\")\n",
    "ax.set_xlabel(\"Car number\")\n",
    "ax.set_ylabel(\"Crop count\")\n",
    "print()"
   ]
  },
  {
   "cell_type": "code",
   "execution_count": 4,
   "metadata": {},
   "outputs": [
    {
     "name": "stdout",
     "output_type": "stream",
     "text": [
      "car_number, count\n",
      "0     13759\n",
      "1      3740\n",
      "2      2956\n",
      "3      2439\n",
      "4      2141\n",
      "5      1697\n",
      "6      1217\n",
      "7       982\n",
      "8       759\n",
      "9       629\n",
      "10      567\n",
      "11      434\n",
      "12      376\n",
      "13      324\n",
      "14      284\n",
      "15      226\n",
      "16      199\n",
      "17      172\n",
      "18      171\n",
      "19      133\n",
      "20      139\n",
      "21       98\n",
      "22      101\n",
      "23      102\n",
      "24       84\n",
      "25       74\n",
      "26       47\n",
      "27       52\n",
      "28       56\n",
      "29       50\n",
      "30       52\n",
      "31       31\n",
      "32       27\n",
      "33       20\n",
      "34       22\n",
      "35       17\n",
      "36       23\n",
      "37       12\n",
      "38       10\n",
      "39       14\n",
      "40        5\n",
      "41        8\n",
      "42        3\n",
      "43        5\n",
      "44        6\n",
      "45        0\n",
      "46        1\n",
      "47        1\n",
      "48        1\n",
      "dtype: int64\n"
     ]
    }
   ],
   "source": [
    "print(\"car_number, count\")\n",
    "\n",
    "print(hist_pds)"
   ]
  },
  {
   "cell_type": "code",
   "execution_count": null,
   "metadata": {},
   "outputs": [],
   "source": []
  }
 ],
 "metadata": {
  "kernelspec": {
   "display_name": "Python 3",
   "language": "python",
   "name": "python3"
  },
  "language_info": {
   "codemirror_mode": {
    "name": "ipython",
    "version": 3
   },
   "file_extension": ".py",
   "mimetype": "text/x-python",
   "name": "python",
   "nbconvert_exporter": "python",
   "pygments_lexer": "ipython3",
   "version": "3.6.7"
  }
 },
 "nbformat": 4,
 "nbformat_minor": 2
}
