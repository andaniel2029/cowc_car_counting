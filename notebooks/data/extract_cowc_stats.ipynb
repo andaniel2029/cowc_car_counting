{
 "cells": [
  {
   "cell_type": "code",
   "execution_count": 1,
   "metadata": {},
   "outputs": [],
   "source": [
    "import os\n",
    "import numpy as np\n",
    "import pandas as pd\n",
    "from tqdm import tqdm\n",
    "from pprint import pprint\n",
    "\n",
    "from PIL import Image\n",
    "Image.MAX_IMAGE_PIXELS = 1000000000\n",
    "\n",
    "import matplotlib.pyplot as plt\n",
    "%matplotlib inline"
   ]
  },
  {
   "cell_type": "markdown",
   "metadata": {},
   "source": [
    "# Extract total number of cars and total area at each city of COWC"
   ]
  },
  {
   "cell_type": "code",
   "execution_count": 2,
   "metadata": {},
   "outputs": [
    {
     "name": "stdout",
     "output_type": "stream",
     "text": [
      "['Columbus_CSUAV_AFRL.txt', 'Potsdam_ISPRS.txt', 'Selwyn_LINZ.txt', 'Toronto_ISPRS.txt', 'Utah_AGRC.txt', 'Vaihingen_ISPRS.txt']\n"
     ]
    }
   ],
   "source": [
    "city_root = \"../../data/cowc_cities\"\n",
    "\n",
    "cities = os.listdir(city_root)\n",
    "print(cities)    "
   ]
  },
  {
   "cell_type": "code",
   "execution_count": 3,
   "metadata": {},
   "outputs": [],
   "source": [
    "def extract_scene_stats(scene, px2kilometer=0.15 * 0.001):\n",
    "    \n",
    "    annotation = Image.open(scene)\n",
    "    annotation = np.array(annotation)\n",
    "    \n",
    "    h, w, _ = annotation.shape\n",
    "    \n",
    "    area_km2 = (h * px2kilometer) * (w * px2kilometer)\n",
    "    \n",
    "    cars = (annotation[:, :, 0] > 0).sum()\n",
    "    \n",
    "    return {'area [km^2]': area_km2, 'cars': cars}\n",
    "\n",
    "\n",
    "def extract_city_stats(data_root, scenes, sum_scenes=True):\n",
    "    \n",
    "    city_stats = {}\n",
    "    \n",
    "    for scene in scenes:\n",
    "        \n",
    "        annotation_file = scene + \"_Annotated_Cars.png\"\n",
    "        scene_stats = extract_scene_stats(os.path.join(data_root, annotation_file))\n",
    "        \n",
    "        city_stats[os.path.basename(scene)] = scene_stats\n",
    "        \n",
    "    if sum_scenes:\n",
    "        area_km2 = 0.0\n",
    "        cars = 0\n",
    "        \n",
    "        for scene_stats in city_stats.values():\n",
    "            area_km2 += scene_stats['area [km^2]']\n",
    "            cars += scene_stats['cars']\n",
    "        \n",
    "        return {'area [km^2]': area_km2, 'cars': cars}\n",
    "        \n",
    "    else:\n",
    "        return city_stats\n",
    "\n",
    "\n",
    "def get_scenes(city_root, city):\n",
    "    \n",
    "    city_name, _ = os.path.splitext(city)\n",
    "    \n",
    "    with open(os.path.join(city_root, city)) as f:\n",
    "        scenes = f.readlines()\n",
    "    \n",
    "    scene_paths = []\n",
    "    \n",
    "    for scene in scenes:\n",
    "        scene = scene.rstrip()\n",
    "        \n",
    "        scene_path = os.path.join(city_name, scene)\n",
    "        \n",
    "        scene_paths.append(scene_path)\n",
    "    \n",
    "    return scene_paths"
   ]
  },
  {
   "cell_type": "code",
   "execution_count": 4,
   "metadata": {},
   "outputs": [
    {
     "name": "stdout",
     "output_type": "stream",
     "text": [
      "Loading Columbus_CSUAV_AFRL ...\n",
      "Loading Potsdam_ISPRS ...\n",
      "Loading Selwyn_LINZ ...\n",
      "Loading Toronto_ISPRS ...\n",
      "Loading Utah_AGRC ...\n",
      "Loading Vaihingen_ISPRS ...\n",
      "Done!\n"
     ]
    }
   ],
   "source": [
    "data_root = \"../../data/cowc/datasets/ground_truth_sets\"\n",
    "\n",
    "stats = {}\n",
    "\n",
    "for city in cities:\n",
    "    \n",
    "    scene_paths = get_scenes(city_root, city)\n",
    "    city_name, _ = os.path.splitext(city)\n",
    "    \n",
    "    print(\"Loading {} ...\".format(city_name))\n",
    "    city_stats = extract_city_stats(data_root, scene_paths)\n",
    "    \n",
    "    stats[city_name] = city_stats\n",
    "\n",
    "print(\"Done!\")"
   ]
  },
  {
   "cell_type": "code",
   "execution_count": 5,
   "metadata": {},
   "outputs": [],
   "source": [
    "def gen_stats_dataframe(stats):\n",
    "    stats_df = pd.DataFrame.from_dict(stats, orient='index')\n",
    "    \n",
    "    stats_df['cars [/km^2]'] = stats_df['cars'] / stats_df['area [km^2]']\n",
    "    \n",
    "    return stats_df"
   ]
  },
  {
   "cell_type": "code",
   "execution_count": 6,
   "metadata": {},
   "outputs": [
    {
     "data": {
      "text/html": [
       "<div>\n",
       "<style scoped>\n",
       "    .dataframe tbody tr th:only-of-type {\n",
       "        vertical-align: middle;\n",
       "    }\n",
       "\n",
       "    .dataframe tbody tr th {\n",
       "        vertical-align: top;\n",
       "    }\n",
       "\n",
       "    .dataframe thead th {\n",
       "        text-align: right;\n",
       "    }\n",
       "</style>\n",
       "<table border=\"1\" class=\"dataframe\">\n",
       "  <thead>\n",
       "    <tr style=\"text-align: right;\">\n",
       "      <th></th>\n",
       "      <th>area [km^2]</th>\n",
       "      <th>cars</th>\n",
       "      <th>cars [/km^2]</th>\n",
       "    </tr>\n",
       "  </thead>\n",
       "  <tbody>\n",
       "    <tr>\n",
       "      <th>Columbus_CSUAV_AFRL</th>\n",
       "      <td>1.110311</td>\n",
       "      <td>1748</td>\n",
       "      <td>1574.334333</td>\n",
       "    </tr>\n",
       "    <tr>\n",
       "      <th>Potsdam_ISPRS</th>\n",
       "      <td>1.441557</td>\n",
       "      <td>2083</td>\n",
       "      <td>1444.965409</td>\n",
       "    </tr>\n",
       "    <tr>\n",
       "      <th>Selwyn_LINZ</th>\n",
       "      <td>20.285221</td>\n",
       "      <td>1197</td>\n",
       "      <td>59.008477</td>\n",
       "    </tr>\n",
       "    <tr>\n",
       "      <th>Toronto_ISPRS</th>\n",
       "      <td>5.821875</td>\n",
       "      <td>10023</td>\n",
       "      <td>1721.610306</td>\n",
       "    </tr>\n",
       "    <tr>\n",
       "      <th>Utah_AGRC</th>\n",
       "      <td>19.887949</td>\n",
       "      <td>19807</td>\n",
       "      <td>995.929770</td>\n",
       "    </tr>\n",
       "    <tr>\n",
       "      <th>Vaihingen_ISPRS</th>\n",
       "      <td>3.493732</td>\n",
       "      <td>2863</td>\n",
       "      <td>819.467432</td>\n",
       "    </tr>\n",
       "  </tbody>\n",
       "</table>\n",
       "</div>"
      ],
      "text/plain": [
       "                     area [km^2]   cars  cars [/km^2]\n",
       "Columbus_CSUAV_AFRL     1.110311   1748   1574.334333\n",
       "Potsdam_ISPRS           1.441557   2083   1444.965409\n",
       "Selwyn_LINZ            20.285221   1197     59.008477\n",
       "Toronto_ISPRS           5.821875  10023   1721.610306\n",
       "Utah_AGRC              19.887949  19807    995.929770\n",
       "Vaihingen_ISPRS         3.493732   2863    819.467432"
      ]
     },
     "execution_count": 6,
     "metadata": {},
     "output_type": "execute_result"
    }
   ],
   "source": [
    "stats_df = gen_stats_dataframe(stats)\n",
    "\n",
    "stats_df"
   ]
  },
  {
   "cell_type": "code",
   "execution_count": 7,
   "metadata": {},
   "outputs": [
    {
     "data": {
      "text/plain": [
       "<matplotlib.axes._subplots.AxesSubplot at 0x103832358>"
      ]
     },
     "execution_count": 7,
     "metadata": {},
     "output_type": "execute_result"
    },
    {
     "data": {
      "image/png": "[encoded data removed]",
      "text/plain": [
       "<Figure size 1080x360 with 3 Axes>"
      ]
     },
     "metadata": {
      "needs_background": "light"
     },
     "output_type": "display_data"
    }
   ],
   "source": [
    "fig, axes = plt.subplots(nrows=1, ncols=3, figsize=(5* 3, 5))\n",
    "stats_df.plot(ax=axes[0], kind='bar', y=['cars'], title='Total car number of each city')\n",
    "stats_df.plot(ax=axes[1], kind='bar', y=['area [km^2]'], title='Total scene area of each city')\n",
    "stats_df.plot(ax=axes[2], kind='bar', y=['cars [/km^2]'], title='Car density of each city')"
   ]
  },
  {
   "cell_type": "markdown",
   "metadata": {},
   "source": [
    "# Extract the same statistics from each scene of Utah region"
   ]
  },
  {
   "cell_type": "code",
   "execution_count": 8,
   "metadata": {},
   "outputs": [
    {
     "data": {
      "text/html": [
       "<div>\n",
       "<style scoped>\n",
       "    .dataframe tbody tr th:only-of-type {\n",
       "        vertical-align: middle;\n",
       "    }\n",
       "\n",
       "    .dataframe tbody tr th {\n",
       "        vertical-align: top;\n",
       "    }\n",
       "\n",
       "    .dataframe thead th {\n",
       "        text-align: right;\n",
       "    }\n",
       "</style>\n",
       "<table border=\"1\" class=\"dataframe\">\n",
       "  <thead>\n",
       "    <tr style=\"text-align: right;\">\n",
       "      <th></th>\n",
       "      <th>area [km^2]</th>\n",
       "      <th>cars</th>\n",
       "      <th>cars [/km^2]</th>\n",
       "    </tr>\n",
       "  </thead>\n",
       "  <tbody>\n",
       "    <tr>\n",
       "      <th>12TVK220980-CROP</th>\n",
       "      <td>1.032154</td>\n",
       "      <td>813</td>\n",
       "      <td>787.672850</td>\n",
       "    </tr>\n",
       "    <tr>\n",
       "      <th>12TVL120100-CROP</th>\n",
       "      <td>1.742400</td>\n",
       "      <td>61</td>\n",
       "      <td>35.009183</td>\n",
       "    </tr>\n",
       "    <tr>\n",
       "      <th>12TVL160640-CROP</th>\n",
       "      <td>1.172726</td>\n",
       "      <td>2860</td>\n",
       "      <td>2438.763158</td>\n",
       "    </tr>\n",
       "    <tr>\n",
       "      <th>12TVL160660-CROP</th>\n",
       "      <td>0.777395</td>\n",
       "      <td>608</td>\n",
       "      <td>782.099301</td>\n",
       "    </tr>\n",
       "    <tr>\n",
       "      <th>12TVL180140</th>\n",
       "      <td>3.999800</td>\n",
       "      <td>806</td>\n",
       "      <td>201.510075</td>\n",
       "    </tr>\n",
       "    <tr>\n",
       "      <th>12TVL200180</th>\n",
       "      <td>3.999800</td>\n",
       "      <td>751</td>\n",
       "      <td>187.759388</td>\n",
       "    </tr>\n",
       "    <tr>\n",
       "      <th>12TVL220180-CROP</th>\n",
       "      <td>1.336105</td>\n",
       "      <td>149</td>\n",
       "      <td>111.518197</td>\n",
       "    </tr>\n",
       "    <tr>\n",
       "      <th>12TVL220360-CROP</th>\n",
       "      <td>1.827769</td>\n",
       "      <td>546</td>\n",
       "      <td>298.724871</td>\n",
       "    </tr>\n",
       "    <tr>\n",
       "      <th>12TVL240120</th>\n",
       "      <td>3.999800</td>\n",
       "      <td>13213</td>\n",
       "      <td>3303.415169</td>\n",
       "    </tr>\n",
       "  </tbody>\n",
       "</table>\n",
       "</div>"
      ],
      "text/plain": [
       "                  area [km^2]   cars  cars [/km^2]\n",
       "12TVK220980-CROP     1.032154    813    787.672850\n",
       "12TVL120100-CROP     1.742400     61     35.009183\n",
       "12TVL160640-CROP     1.172726   2860   2438.763158\n",
       "12TVL160660-CROP     0.777395    608    782.099301\n",
       "12TVL180140          3.999800    806    201.510075\n",
       "12TVL200180          3.999800    751    187.759388\n",
       "12TVL220180-CROP     1.336105    149    111.518197\n",
       "12TVL220360-CROP     1.827769    546    298.724871\n",
       "12TVL240120          3.999800  13213   3303.415169"
      ]
     },
     "execution_count": 8,
     "metadata": {},
     "output_type": "execute_result"
    }
   ],
   "source": [
    "city_utah = 'Utah_AGRC.txt'\n",
    "\n",
    "scenes_utah = get_scenes(city_root, city_utah)\n",
    "stats_utah = extract_city_stats(data_root, scenes_utah, False)\n",
    "\n",
    "stats_utah_df = gen_stats_dataframe(stats_utah)\n",
    "stats_utah_df"
   ]
  },
  {
   "cell_type": "code",
   "execution_count": 9,
   "metadata": {},
   "outputs": [
    {
     "data": {
      "text/plain": [
       "<matplotlib.axes._subplots.AxesSubplot at 0x10376c0b8>"
      ]
     },
     "execution_count": 9,
     "metadata": {},
     "output_type": "execute_result"
    },
    {
     "data": {
      "image/png": "[encoded data removed]",
      "text/plain": [
       "<Figure size 1080x360 with 3 Axes>"
      ]
     },
     "metadata": {
      "needs_background": "light"
     },
     "output_type": "display_data"
    }
   ],
   "source": [
    "fig, axes = plt.subplots(nrows=1, ncols=3, figsize=(5* 3, 5))\n",
    "stats_utah_df.plot(ax=axes[0], kind='bar', y=['cars'], title='Car number of each scene in Utha')\n",
    "stats_utah_df.plot(ax=axes[1], kind='bar', y=['area [km^2]'], title='Area of each scene in Utha')\n",
    "stats_utah_df.plot(ax=axes[2], kind='bar', y=['cars [/km^2]'], title='Car density of each scene in Utha')"
   ]
  },
  {
   "cell_type": "code",
   "execution_count": null,
   "metadata": {},
   "outputs": [],
   "source": []
  }
 ],
 "metadata": {
  "kernelspec": {
   "display_name": "Python 3",
   "language": "python",
   "name": "python3"
  },
  "language_info": {
   "codemirror_mode": {
    "name": "ipython",
    "version": 3
   },
   "file_extension": ".py",
   "mimetype": "text/x-python",
   "name": "python",
   "nbconvert_exporter": "python",
   "pygments_lexer": "ipython3",
   "version": "3.6.7"
  }
 },
 "nbformat": 4,
 "nbformat_minor": 2
}
